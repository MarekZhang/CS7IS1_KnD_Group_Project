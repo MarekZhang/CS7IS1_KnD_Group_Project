{
 "cells": [
  {
   "cell_type": "code",
   "execution_count": 1,
   "metadata": {},
   "outputs": [],
   "source": [
    "from SPARQLWrapper import SPARQLWrapper, JSON"
   ]
  },
  {
   "cell_type": "code",
   "execution_count": 2,
   "metadata": {},
   "outputs": [],
   "source": [
    "import pandas as pd\n"
   ]
  },
  {
   "cell_type": "code",
   "execution_count": 3,
   "metadata": {},
   "outputs": [],
   "source": [
    "import os\n",
    "li = [\"Queries/\"+ x for x in os.listdir(\"Queries\")]"
   ]
  },
  {
   "cell_type": "code",
   "execution_count": 26,
   "metadata": {},
   "outputs": [],
   "source": [
    "def save_result(path):\n",
    "    with open(path) as f:\n",
    "        s = \" \".join([x.strip() for x in f])     \n",
    "        sparql = SPARQLWrapper(\"http://127.0.0.1:3030/test/sparql\")\n",
    "        sparql.setQuery(s)\n",
    "        sparql.setReturnFormat(JSON)\n",
    "        results = sparql.query().convert()\n",
    "        columns = results['head']['vars']\n",
    "        df = pd.DataFrame(columns= columns)\n",
    "        for x in results['results']['bindings']:\n",
    "            value_li = []\n",
    "            for val in x.values():\n",
    "                value_li.append(val['value'])\n",
    "            df = df.append(pd.Series(value_li, index=columns), ignore_index=True)\n",
    "        return df"
   ]
  },
  {
   "cell_type": "code",
   "execution_count": 16,
   "metadata": {},
   "outputs": [],
   "source": [
    "counter = 0\n",
    "for path in li:\n",
    "    counter+=1\n",
    "    save_result(path,counter)\n",
    "    "
   ]
  },
  {
   "cell_type": "markdown",
   "metadata": {},
   "source": [
    "1. Give a room number and list the name of people who live in it."
   ]
  },
  {
   "cell_type": "code",
   "execution_count": 27,
   "metadata": {},
   "outputs": [],
   "source": [
    "df = save_result(li[0])"
   ]
  },
  {
   "cell_type": "code",
   "execution_count": 20,
   "metadata": {},
   "outputs": [
    {
     "name": "stdout",
     "output_type": "stream",
     "text": [
      "PREFIX rdf: <http://www.w3.org/1999/02/22-rdf-syntax-ns#>\n",
      "PREFIX owl: <http://www.w3.org/2002/07/owl#>\n",
      "PREFIX rdfs: <http://www.w3.org/2000/01/rdf-schema#>\n",
      "PREFIX xsd: <http://www.w3.org/2001/XMLSchema#>\n",
      "PREFIX com: <http://kndonto.org/Company#>\n",
      "PREFIX std: <http://kndonto.org/Student/StudentInfo#>\n",
      "PREFIX plc: <http://kndonto.org/Place#>\n",
      "PREFIX dom: <http://kndonto.org/Domitory#>\n",
      "PREFIX dbo: <http://dbpedia.org/ontology/>\n",
      "PREFIX inds: <http://kndonto.org/Industry#>\n",
      "PREFIX dst: <http://kndonto.org/Destination#>\n",
      "PREFIX foaf: <http://xmlns.com/foaf/0.1/>\n",
      "SELECT ?firstname ?lastname ?Room\n",
      "\tWHERE { ?people std:LiveINRoom ?Room.\n",
      "\t\t    ?people foaf:firstName ?firstname.\n",
      "\t\t    ?people foaf:lastName ?lastname. \n",
      "\t        ?Room dom:RoomNo '11_303'}\n",
      "\tORDER BY(?firstname)\n"
     ]
    }
   ],
   "source": [
    "with open(li[0]) as f:\n",
    "    s = f.read()\n",
    "print(s)"
   ]
  },
  {
   "cell_type": "code",
   "execution_count": 29,
   "metadata": {},
   "outputs": [
    {
     "data": {
      "text/html": [
       "<div>\n",
       "<style scoped>\n",
       "    .dataframe tbody tr th:only-of-type {\n",
       "        vertical-align: middle;\n",
       "    }\n",
       "\n",
       "    .dataframe tbody tr th {\n",
       "        vertical-align: top;\n",
       "    }\n",
       "\n",
       "    .dataframe thead th {\n",
       "        text-align: right;\n",
       "    }\n",
       "</style>\n",
       "<table border=\"1\" class=\"dataframe\">\n",
       "  <thead>\n",
       "    <tr style=\"text-align: right;\">\n",
       "      <th></th>\n",
       "      <th>firstname</th>\n",
       "      <th>lastname</th>\n",
       "      <th>Room</th>\n",
       "    </tr>\n",
       "  </thead>\n",
       "  <tbody>\n",
       "    <tr>\n",
       "      <th>0</th>\n",
       "      <td>Alfred</td>\n",
       "      <td>PARKER</td>\n",
       "      <td>http://kndonto.org/Domitory#11_303</td>\n",
       "    </tr>\n",
       "    <tr>\n",
       "      <th>1</th>\n",
       "      <td>Edward</td>\n",
       "      <td>TURNER</td>\n",
       "      <td>http://kndonto.org/Domitory#11_303</td>\n",
       "    </tr>\n",
       "    <tr>\n",
       "      <th>2</th>\n",
       "      <td>Harry</td>\n",
       "      <td>REYES</td>\n",
       "      <td>http://kndonto.org/Domitory#11_303</td>\n",
       "    </tr>\n",
       "    <tr>\n",
       "      <th>3</th>\n",
       "      <td>Henry</td>\n",
       "      <td>PHILLIPS</td>\n",
       "      <td>http://kndonto.org/Domitory#11_303</td>\n",
       "    </tr>\n",
       "    <tr>\n",
       "      <th>4</th>\n",
       "      <td>Robert</td>\n",
       "      <td>EVANS</td>\n",
       "      <td>http://kndonto.org/Domitory#11_303</td>\n",
       "    </tr>\n",
       "    <tr>\n",
       "      <th>5</th>\n",
       "      <td>Willie</td>\n",
       "      <td>CRUZ</td>\n",
       "      <td>http://kndonto.org/Domitory#11_303</td>\n",
       "    </tr>\n",
       "  </tbody>\n",
       "</table>\n",
       "</div>"
      ],
      "text/plain": [
       "  firstname  lastname                                Room\n",
       "0    Alfred    PARKER  http://kndonto.org/Domitory#11_303\n",
       "1    Edward    TURNER  http://kndonto.org/Domitory#11_303\n",
       "2     Harry     REYES  http://kndonto.org/Domitory#11_303\n",
       "3     Henry  PHILLIPS  http://kndonto.org/Domitory#11_303\n",
       "4    Robert     EVANS  http://kndonto.org/Domitory#11_303\n",
       "5    Willie      CRUZ  http://kndonto.org/Domitory#11_303"
      ]
     },
     "execution_count": 29,
     "metadata": {},
     "output_type": "execute_result"
    }
   ],
   "source": [
    "df"
   ]
  },
  {
   "cell_type": "markdown",
   "metadata": {},
   "source": [
    "2. Give one’s name and find his/her room number."
   ]
  },
  {
   "cell_type": "code",
   "execution_count": 30,
   "metadata": {},
   "outputs": [
    {
     "name": "stdout",
     "output_type": "stream",
     "text": [
      "PREFIX rdf: <http://www.w3.org/1999/02/22-rdf-syntax-ns#>\n",
      "PREFIX owl: <http://www.w3.org/2002/07/owl#>\n",
      "PREFIX rdfs: <http://www.w3.org/2000/01/rdf-schema#>\n",
      "PREFIX xsd: <http://www.w3.org/2001/XMLSchema#>\n",
      "PREFIX com: <http://kndonto.org/Company#>\n",
      "PREFIX std: <http://kndonto.org/Student/StudentInfo#>\n",
      "PREFIX plc: <http://kndonto.org/Place#>\n",
      "PREFIX dom: <http://kndonto.org/Domitory#>\n",
      "PREFIX dbo: <http://dbpedia.org/ontology/>\n",
      "PREFIX inds: <http://kndonto.org/Industry#>\n",
      "PREFIX dst: <http://kndonto.org/Destination#>\n",
      "PREFIX foaf: <http://xmlns.com/foaf/0.1/>\n",
      "SELECT ?firstname ?lastname ?salary ?City ?houseprice\n",
      "           WHERE{ \n",
      "                  ?people foaf:firstName ?firstname .\n",
      "                  ?people foaf:lastName ?lastname .\n",
      "                  ?people std:EmployedBy ?company .\n",
      "                ?company com:avg_monthly_salary ?salary.\n",
      "                ?company plc:Location ?City.\n",
      "                ?City plc:house_pricing ?houseprice .\n",
      "                FILTER(?salary*3 > ?houseprice)\n",
      "                }ORDER BY ASC (?salary)\n",
      "\n",
      "\n",
      "\n"
     ]
    }
   ],
   "source": [
    "with open(li[1]) as f:\n",
    "    s = f.read()\n",
    "print(s)"
   ]
  },
  {
   "cell_type": "code",
   "execution_count": 32,
   "metadata": {},
   "outputs": [
    {
     "data": {
      "text/html": [
       "<div>\n",
       "<style scoped>\n",
       "    .dataframe tbody tr th:only-of-type {\n",
       "        vertical-align: middle;\n",
       "    }\n",
       "\n",
       "    .dataframe tbody tr th {\n",
       "        vertical-align: top;\n",
       "    }\n",
       "\n",
       "    .dataframe thead th {\n",
       "        text-align: right;\n",
       "    }\n",
       "</style>\n",
       "<table border=\"1\" class=\"dataframe\">\n",
       "  <thead>\n",
       "    <tr style=\"text-align: right;\">\n",
       "      <th></th>\n",
       "      <th>firstname</th>\n",
       "      <th>lastname</th>\n",
       "      <th>salary</th>\n",
       "      <th>City</th>\n",
       "      <th>houseprice</th>\n",
       "    </tr>\n",
       "  </thead>\n",
       "  <tbody>\n",
       "    <tr>\n",
       "      <th>0</th>\n",
       "      <td>Alfred</td>\n",
       "      <td>PARKER</td>\n",
       "      <td>5000</td>\n",
       "      <td>http://kndonto.org/Destination#XINJIANG</td>\n",
       "      <td>9251</td>\n",
       "    </tr>\n",
       "    <tr>\n",
       "      <th>1</th>\n",
       "      <td>Robert</td>\n",
       "      <td>EVANS</td>\n",
       "      <td>5000</td>\n",
       "      <td>http://kndonto.org/Destination#YUNNAN</td>\n",
       "      <td>13246</td>\n",
       "    </tr>\n",
       "    <tr>\n",
       "      <th>2</th>\n",
       "      <td>James</td>\n",
       "      <td>MITCHELL</td>\n",
       "      <td>5500</td>\n",
       "      <td>http://kndonto.org/Destination#HEBEI</td>\n",
       "      <td>9619</td>\n",
       "    </tr>\n",
       "    <tr>\n",
       "      <th>3</th>\n",
       "      <td>Eleanore</td>\n",
       "      <td>JACKSON</td>\n",
       "      <td>7500</td>\n",
       "      <td>http://kndonto.org/Destination#SHANDONG</td>\n",
       "      <td>21080</td>\n",
       "    </tr>\n",
       "    <tr>\n",
       "      <th>4</th>\n",
       "      <td>Gretchen</td>\n",
       "      <td>MARTIN</td>\n",
       "      <td>7500</td>\n",
       "      <td>http://kndonto.org/Destination#SHANDONG</td>\n",
       "      <td>21080</td>\n",
       "    </tr>\n",
       "    <tr>\n",
       "      <th>5</th>\n",
       "      <td>Selena</td>\n",
       "      <td>WALKER</td>\n",
       "      <td>7500</td>\n",
       "      <td>http://kndonto.org/Destination#SHANDONG</td>\n",
       "      <td>21080</td>\n",
       "    </tr>\n",
       "    <tr>\n",
       "      <th>6</th>\n",
       "      <td>Tom</td>\n",
       "      <td>MORALES</td>\n",
       "      <td>7500</td>\n",
       "      <td>http://kndonto.org/Destination#SHANDONG</td>\n",
       "      <td>21080</td>\n",
       "    </tr>\n",
       "    <tr>\n",
       "      <th>7</th>\n",
       "      <td>Ethelyn</td>\n",
       "      <td>PEREZ</td>\n",
       "      <td>7500</td>\n",
       "      <td>http://kndonto.org/Destination#SHANDONG</td>\n",
       "      <td>21080</td>\n",
       "    </tr>\n",
       "    <tr>\n",
       "      <th>8</th>\n",
       "      <td>Lee</td>\n",
       "      <td>ROGERS</td>\n",
       "      <td>7500</td>\n",
       "      <td>http://kndonto.org/Destination#SHANDONG</td>\n",
       "      <td>21080</td>\n",
       "    </tr>\n",
       "    <tr>\n",
       "      <th>9</th>\n",
       "      <td>Thomas</td>\n",
       "      <td>DIAZ</td>\n",
       "      <td>7500</td>\n",
       "      <td>http://kndonto.org/Destination#SHANDONG</td>\n",
       "      <td>21080</td>\n",
       "    </tr>\n",
       "  </tbody>\n",
       "</table>\n",
       "</div>"
      ],
      "text/plain": [
       "  firstname  lastname salary                                     City  \\\n",
       "0    Alfred    PARKER   5000  http://kndonto.org/Destination#XINJIANG   \n",
       "1    Robert     EVANS   5000    http://kndonto.org/Destination#YUNNAN   \n",
       "2     James  MITCHELL   5500     http://kndonto.org/Destination#HEBEI   \n",
       "3  Eleanore   JACKSON   7500  http://kndonto.org/Destination#SHANDONG   \n",
       "4  Gretchen    MARTIN   7500  http://kndonto.org/Destination#SHANDONG   \n",
       "5    Selena    WALKER   7500  http://kndonto.org/Destination#SHANDONG   \n",
       "6       Tom   MORALES   7500  http://kndonto.org/Destination#SHANDONG   \n",
       "7   Ethelyn     PEREZ   7500  http://kndonto.org/Destination#SHANDONG   \n",
       "8       Lee    ROGERS   7500  http://kndonto.org/Destination#SHANDONG   \n",
       "9    Thomas      DIAZ   7500  http://kndonto.org/Destination#SHANDONG   \n",
       "\n",
       "  houseprice  \n",
       "0       9251  \n",
       "1      13246  \n",
       "2       9619  \n",
       "3      21080  \n",
       "4      21080  \n",
       "5      21080  \n",
       "6      21080  \n",
       "7      21080  \n",
       "8      21080  \n",
       "9      21080  "
      ]
     },
     "execution_count": 32,
     "metadata": {},
     "output_type": "execute_result"
    }
   ],
   "source": [
    "save_result(li[1])"
   ]
  },
  {
   "cell_type": "markdown",
   "metadata": {},
   "source": []
  }
 ],
 "metadata": {
  "kernelspec": {
   "display_name": "Python 3",
   "language": "python",
   "name": "python3"
  },
  "language_info": {
   "codemirror_mode": {
    "name": "ipython",
    "version": 3
   },
   "file_extension": ".py",
   "mimetype": "text/x-python",
   "name": "python",
   "nbconvert_exporter": "python",
   "pygments_lexer": "ipython3",
   "version": "3.6.4"
  }
 },
 "nbformat": 4,
 "nbformat_minor": 2
}
